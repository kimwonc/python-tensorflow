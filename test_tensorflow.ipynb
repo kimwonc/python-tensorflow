{
 "cells": [
  {
   "cell_type": "code",
   "execution_count": 1,
   "id": "0ad5ab4e",
   "metadata": {},
   "outputs": [
    {
     "name": "stdout",
     "output_type": "stream",
     "text": [
      "tf.Tensor(\n",
      "[[0.]\n",
      " [0.]], shape=(2, 1), dtype=float32)\n",
      "tf.Tensor(\n",
      "[[1.]\n",
      " [1.]], shape=(2, 1), dtype=float32)\n"
     ]
    }
   ],
   "source": [
    "import tensorflow as tf\n",
    "import time \n",
    "\n",
    "start = time.time() # 시작\n",
    "\n",
    "a = tf.zeros((2,1))\n",
    "b = tf.ones_like(a)\n",
    "\n",
    "print(a)\n",
    "print(b)\n",
    " \n",
    "print(f\"{time.time()-start:.4f} sec\") # 종료와 함께 수행시간 출력\n"
   ]
  },
  {
   "cell_type": "code",
   "execution_count": null,
   "id": "a87e797b",
   "metadata": {},
   "outputs": [],
   "source": []
  }
 ],
 "metadata": {
  "kernelspec": {
   "display_name": "Python 3 (ipykernel)",
   "language": "python",
   "name": "python3"
  },
  "language_info": {
   "codemirror_mode": {
    "name": "ipython",
    "version": 3
   },
   "file_extension": ".py",
   "mimetype": "text/x-python",
   "name": "python",
   "nbconvert_exporter": "python",
   "pygments_lexer": "ipython3",
   "version": "3.10.12"
  }
 },
 "nbformat": 4,
 "nbformat_minor": 5
}
